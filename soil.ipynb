{
 "cells": [
  {
   "cell_type": "code",
   "execution_count": 3,
   "metadata": {},
   "outputs": [
    {
     "name": "stdout",
     "output_type": "stream",
     "text": [
      "✅ Dataset extracted successfully!\n"
     ]
    }
   ],
   "source": [
    "import zipfile\n",
    "import os\n",
    "\n",
    "# Set paths\n",
    "zip_path = \"C:/Users/Ankit/OneDrive/Desktop/demo_soil/archive (5).zip\"  # Change this to your actual file name\n",
    "extract_path = \"C:/Users/Ankit/OneDrive/Desktop/demo_soil/PlantVillage\"\n",
    "\n",
    "# Extract ZIP\n",
    "with zipfile.ZipFile(zip_path, 'r') as zip_ref:\n",
    "    zip_ref.extractall(extract_path)\n",
    "\n",
    "print(\"✅ Dataset extracted successfully!\")"
   ]
  },
  {
   "cell_type": "code",
   "execution_count": 4,
   "metadata": {},
   "outputs": [
    {
     "name": "stdout",
     "output_type": "stream",
     "text": [
      "✅ Merged all class folders into: C:/Users/Ankit/OneDrive/Desktop/demo_soil/Final_PlantVillage\n"
     ]
    }
   ],
   "source": [
    "import os\n",
    "import shutil\n",
    "\n",
    "# Define paths\n",
    "main_dataset_path = \"C:/Users/Ankit/OneDrive/Desktop/demo_soil/PlantVillage\"\n",
    "folder1 = os.path.join(main_dataset_path, \"PlantVillage\")\n",
    "folder2 = os.path.join(main_dataset_path, \"plantvillage\")\n",
    "final_dataset_path = \"C:/Users/Ankit/OneDrive/Desktop/demo_soil/Final_PlantVillage\"\n",
    "\n",
    "# Ensure the final dataset path exists\n",
    "os.makedirs(final_dataset_path, exist_ok=True)\n",
    "\n",
    "# Move class folders from both subdirectories to the final dataset\n",
    "for folder in [folder1, folder2]:\n",
    "    if os.path.exists(folder):\n",
    "        for subfolder in os.listdir(folder):\n",
    "            src = os.path.join(folder, subfolder)\n",
    "            dst = os.path.join(final_dataset_path, subfolder)\n",
    "            if os.path.isdir(src):\n",
    "              \n",
    "                shutil.move(src, dst)  # Move the class folder\n",
    "\n",
    "print(\"✅ Merged all class folders into:\", final_dataset_path)\n"
   ]
  },
  {
   "cell_type": "code",
   "execution_count": 5,
   "metadata": {},
   "outputs": [
    {
     "name": "stdout",
     "output_type": "stream",
     "text": [
      "Classes: ['Pepper__bell___Bacterial_spot', 'Pepper__bell___healthy', 'PlantVillage', 'Potato___Early_blight', 'Potato___healthy', 'Potato___Late_blight', 'Tomato_Bacterial_spot', 'Tomato_Early_blight', 'Tomato_healthy', 'Tomato_Late_blight', 'Tomato_Leaf_Mold', 'Tomato_Septoria_leaf_spot', 'Tomato_Spider_mites_Two_spotted_spider_mite', 'Tomato__Target_Spot', 'Tomato__Tomato_mosaic_virus', 'Tomato__Tomato_YellowLeaf__Curl_Virus']\n"
     ]
    }
   ],
   "source": [
    "import os\n",
    "\n",
    "# List classes\n",
    "print(\"Classes:\", os.listdir(final_dataset_path))\n"
   ]
  },
  {
   "cell_type": "code",
   "execution_count": 6,
   "metadata": {},
   "outputs": [
    {
     "name": "stdout",
     "output_type": "stream",
     "text": [
      "Found 66048 images belonging to 16 classes.\n",
      "Found 16504 images belonging to 16 classes.\n"
     ]
    },
    {
     "name": "stderr",
     "output_type": "stream",
     "text": [
      "e:\\Anaconda\\lib\\site-packages\\keras\\src\\layers\\convolutional\\base_conv.py:107: UserWarning: Do not pass an `input_shape`/`input_dim` argument to a layer. When using Sequential models, prefer using an `Input(shape)` object as the first layer in the model instead.\n",
      "  super().__init__(activity_regularizer=activity_regularizer, **kwargs)\n"
     ]
    },
    {
     "name": "stdout",
     "output_type": "stream",
     "text": [
      "\n",
      "🟢 Training Started...\n"
     ]
    },
    {
     "name": "stderr",
     "output_type": "stream",
     "text": [
      "e:\\Anaconda\\lib\\site-packages\\keras\\src\\trainers\\data_adapters\\py_dataset_adapter.py:121: UserWarning: Your `PyDataset` class should call `super().__init__(**kwargs)` in its constructor. `**kwargs` can include `workers`, `use_multiprocessing`, `max_queue_size`. Do not pass these arguments to `fit()`, as they will be ignored.\n",
      "  self._warn_if_super_not_called()\n"
     ]
    },
    {
     "name": "stdout",
     "output_type": "stream",
     "text": [
      "Epoch 1/5\n",
      "\u001b[1m2064/2064\u001b[0m \u001b[32m━━━━━━━━━━━━━━━━━━━━\u001b[0m\u001b[37m\u001b[0m \u001b[1m923s\u001b[0m 435ms/step - accuracy: 0.4970 - loss: 1.4484 - val_accuracy: 0.3351 - val_loss: 2.0797\n",
      "Epoch 2/5\n",
      "\u001b[1m2064/2064\u001b[0m \u001b[32m━━━━━━━━━━━━━━━━━━━━\u001b[0m\u001b[37m\u001b[0m \u001b[1m1306s\u001b[0m 633ms/step - accuracy: 0.5304 - loss: 0.8919 - val_accuracy: 0.2766 - val_loss: 2.5978\n",
      "Epoch 3/5\n",
      "\u001b[1m2064/2064\u001b[0m \u001b[32m━━━━━━━━━━━━━━━━━━━━\u001b[0m\u001b[37m\u001b[0m \u001b[1m874s\u001b[0m 423ms/step - accuracy: 0.5441 - loss: 0.8103 - val_accuracy: 0.2734 - val_loss: 2.9538\n",
      "Epoch 4/5\n",
      "\u001b[1m2064/2064\u001b[0m \u001b[32m━━━━━━━━━━━━━━━━━━━━\u001b[0m\u001b[37m\u001b[0m \u001b[1m893s\u001b[0m 432ms/step - accuracy: 0.5456 - loss: 0.7698 - val_accuracy: 0.2163 - val_loss: 3.4111\n",
      "Epoch 5/5\n",
      "\u001b[1m2064/2064\u001b[0m \u001b[32m━━━━━━━━━━━━━━━━━━━━\u001b[0m\u001b[37m\u001b[0m \u001b[1m853s\u001b[0m 413ms/step - accuracy: 0.5499 - loss: 0.7436 - val_accuracy: 0.2401 - val_loss: 3.5738\n"
     ]
    },
    {
     "name": "stderr",
     "output_type": "stream",
     "text": [
      "WARNING:absl:You are saving your model as an HDF5 file via `model.save()` or `keras.saving.save_model(model)`. This file format is considered legacy. We recommend using instead the native Keras format, e.g. `model.save('my_model.keras')` or `keras.saving.save_model(model, 'my_model.keras')`. \n"
     ]
    },
    {
     "name": "stdout",
     "output_type": "stream",
     "text": [
      "\n",
      "✅ Model Saved as 'plant_disease_model.h5'\n"
     ]
    }
   ],
   "source": [
    "import tensorflow as tf\n",
    "from tensorflow.keras.preprocessing.image import ImageDataGenerator\n",
    "import numpy as np\n",
    "import os\n",
    "from tensorflow.keras.models import load_model\n",
    "from tensorflow.keras.preprocessing import image\n",
    "\n",
    "# 🔹 Set your dataset path (Update this based on your system)\n",
    "dataset_path = final_dataset_path  # Update this!\n",
    "\n",
    "# 🔹 Check if the dataset path exists\n",
    "if not os.path.exists(dataset_path):\n",
    "    raise FileNotFoundError(f\"Dataset not found at {dataset_path}. Please check the path.\")\n",
    "\n",
    "# 🔹 Data Preprocessing\n",
    "datagen = ImageDataGenerator(rescale=1./255, validation_split=0.2)\n",
    "\n",
    "train_data = datagen.flow_from_directory(\n",
    "    dataset_path, target_size=(128, 128), batch_size=32, subset=\"training\"\n",
    ")\n",
    "\n",
    "val_data = datagen.flow_from_directory(\n",
    "    dataset_path, target_size=(128, 128), batch_size=32, subset=\"validation\"\n",
    ")\n",
    "\n",
    "# 🔹 CNN Model Definition\n",
    "model = tf.keras.models.Sequential([\n",
    "    tf.keras.layers.Conv2D(32, (3, 3), activation='relu', input_shape=(128, 128, 3)),\n",
    "    tf.keras.layers.MaxPooling2D(2, 2),\n",
    "    tf.keras.layers.Conv2D(64, (3, 3), activation='relu'),\n",
    "    tf.keras.layers.MaxPooling2D(2, 2),\n",
    "    tf.keras.layers.Flatten(),\n",
    "    tf.keras.layers.Dense(128, activation='relu'),\n",
    "    tf.keras.layers.Dense(len(train_data.class_indices), activation='softmax')  # Multi-class probability output\n",
    "])\n",
    "\n",
    "# 🔹 Compile & Train the Model\n",
    "model.compile(optimizer='adam', loss='categorical_crossentropy', metrics=['accuracy'])\n",
    "\n",
    "print(\"\\n🟢 Training Started...\")\n",
    "model.fit(train_data, validation_data=val_data, epochs=5)\n",
    "\n",
    "# 🔹 Save the Model\n",
    "model.save(\"plant_disease_model.h5\")\n",
    "print(\"\\n✅ Model Saved as 'plant_disease_model.h5'\")\n",
    "\n",
    "# 🔹 Mapping class indices to labels\n",
    "class_labels = {v: k for k, v in train_data.class_indices.items()}\n",
    "\n",
    "# 🔹 Function to Predict Disease Probabilities from an Image\n",
    "def predict_plant_disease(image_path, model_path=\"plant_disease_model.h5\"):\n",
    "    model = load_model(model_path)  # Load trained model\n",
    "\n",
    "    # Load image & preprocess\n",
    "    img = image.load_img(image_path, target_size=(128, 128))\n",
    "    img_array = image.img_to_array(img) / 255.0\n",
    "    img_array = np.expand_dims(img_array, axis=0)  # Reshape for model input\n",
    "\n",
    "    # Predict\n",
    "    predictions = model.predict(img_array)[0]  # Get probability scores\n",
    "    probabilities = {class_labels[i]: round(float(prob), 4) for i, prob in enumerate(predictions)}\n",
    "\n",
    "    # Sort by highest probability\n",
    "    sorted_probs = dict(sorted(probabilities.items(), key=lambda item: item[1], reverse=True))\n",
    "\n",
    "    print(\"\\n🔍 Prediction Probabilities:\")\n",
    "    for disease, prob in sorted_probs.items():\n",
    "        print(f\"{disease}: {prob * 100:.2f}%\")\n",
    "\n",
    "    return sorted_probs"
   ]
  },
  {
   "cell_type": "code",
   "execution_count": 9,
   "metadata": {},
   "outputs": [
    {
     "name": "stderr",
     "output_type": "stream",
     "text": [
      "WARNING:absl:Compiled the loaded model, but the compiled metrics have yet to be built. `model.compile_metrics` will be empty until you train or evaluate the model.\n"
     ]
    },
    {
     "name": "stdout",
     "output_type": "stream",
     "text": [
      "\u001b[1m1/1\u001b[0m \u001b[32m━━━━━━━━━━━━━━━━━━━━\u001b[0m\u001b[37m\u001b[0m \u001b[1m2s\u001b[0m 2s/step\n",
      "\n",
      "🔍 Prediction Probabilities:\n",
      "PlantVillage: 56.35%\n",
      "Pepper__bell___healthy: 23.22%\n",
      "Tomato_Late_blight: 19.76%\n",
      "Pepper__bell___Bacterial_spot: 0.53%\n",
      "Tomato__Tomato_YellowLeaf__Curl_Virus: 0.07%\n",
      "Tomato_Septoria_leaf_spot: 0.05%\n",
      "Tomato_Early_blight: 0.02%\n",
      "Potato___Early_blight: 0.00%\n",
      "Potato___Late_blight: 0.00%\n",
      "Potato___healthy: 0.00%\n",
      "Tomato_Bacterial_spot: 0.00%\n",
      "Tomato_Leaf_Mold: 0.00%\n",
      "Tomato_Spider_mites_Two_spotted_spider_mite: 0.00%\n",
      "Tomato__Target_Spot: 0.00%\n",
      "Tomato__Tomato_mosaic_virus: 0.00%\n",
      "Tomato_healthy: 0.00%\n"
     ]
    }
   ],
   "source": [
    "# 🔹 Example Usage\n",
    "test_image_path = \"C:/Users/Ankit/OneDrive/Desktop/demo_soil/tomato leaf mold.jpg\"\n",
    "if os.path.exists(test_image_path):\n",
    "    predict_plant_disease(test_image_path)\n",
    "else:\n",
    "    print(\"\\n⚠️ Test image not found. Please provide a valid path.\")"
   ]
  },
  {
   "cell_type": "code",
   "execution_count": null,
   "metadata": {},
   "outputs": [],
   "source": []
  }
 ],
 "metadata": {
  "kernelspec": {
   "display_name": "Python 3",
   "language": "python",
   "name": "python3"
  },
  "language_info": {
   "codemirror_mode": {
    "name": "ipython",
    "version": 3
   },
   "file_extension": ".py",
   "mimetype": "text/x-python",
   "name": "python",
   "nbconvert_exporter": "python",
   "pygments_lexer": "ipython3",
   "version": "3.9.13"
  },
  "orig_nbformat": 4
 },
 "nbformat": 4,
 "nbformat_minor": 2
}
